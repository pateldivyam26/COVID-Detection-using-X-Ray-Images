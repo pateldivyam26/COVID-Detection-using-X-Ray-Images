{
 "cells": [
  {
   "cell_type": "markdown",
   "metadata": {},
   "source": [
    "## Installing Libraries and Dependencies"
   ]
  },
  {
   "cell_type": "code",
   "execution_count": 8,
   "metadata": {},
   "outputs": [],
   "source": [
    "import pandas as pd\n",
    "import numpy as np\n",
    "import os\n",
    "import shutil\n",
    "import glob\n",
    "import matplotlib.pyplot as plt"
   ]
  },
  {
   "cell_type": "markdown",
   "metadata": {},
   "source": [
    "## Dataset Description and Preprocessing"
   ]
  },
  {
   "cell_type": "code",
   "execution_count": 2,
   "metadata": {},
   "outputs": [],
   "source": [
    "train_path  = \"dataset\\\\train\"\n",
    "valid_path  = \"dataset\\\\val\"\n",
    "test_path   = \"dataset\\\\test\""
   ]
  },
  {
   "cell_type": "code",
   "execution_count": 3,
   "metadata": {},
   "outputs": [],
   "source": [
    "from keras.preprocessing.image import ImageDataGenerator\n",
    "from keras.models import Model\n",
    "from keras.layers import Dense, MaxPool2D, Conv2D\n",
    "import keras"
   ]
  },
  {
   "cell_type": "code",
   "execution_count": 4,
   "metadata": {},
   "outputs": [
    {
     "name": "stdout",
     "output_type": "stream",
     "text": [
      "Found 4997 images belonging to 2 classes.\n"
     ]
    }
   ],
   "source": [
    "train_data_gen = ImageDataGenerator(\n",
    "                                    zoom_range= 0.2, \n",
    "                                    horizontal_flip= True, \n",
    "                                    shear_range= 0.2,\n",
    "                                    \n",
    "                                    )\n",
    "\n",
    "train = train_data_gen.flow_from_directory(directory= train_path, \n",
    "                                           target_size=(224,224))"
   ]
  },
  {
   "cell_type": "code",
   "execution_count": 5,
   "metadata": {},
   "outputs": [
    {
     "name": "stdout",
     "output_type": "stream",
     "text": [
      "Found 1000 images belonging to 2 classes.\n"
     ]
    }
   ],
   "source": [
    "validation_data_gen = ImageDataGenerator()\n",
    "\n",
    "valid = validation_data_gen.flow_from_directory(directory= valid_path, \n",
    "                                                target_size=(224,224))"
   ]
  },
  {
   "cell_type": "code",
   "execution_count": 6,
   "metadata": {},
   "outputs": [
    {
     "name": "stdout",
     "output_type": "stream",
     "text": [
      "Found 999 images belonging to 2 classes.\n"
     ]
    }
   ],
   "source": [
    "test_data_gen = ImageDataGenerator()\n",
    "\n",
    "test = train_data_gen.flow_from_directory(directory= test_path , \n",
    "                                          target_size=(224,224), \n",
    "                                          shuffle= False)"
   ]
  },
  {
   "cell_type": "code",
   "execution_count": 7,
   "metadata": {},
   "outputs": [],
   "source": [
    "class_type = {1:'Covid',  0 : 'Normal'}"
   ]
  },
  {
   "cell_type": "code",
   "execution_count": 8,
   "metadata": {},
   "outputs": [],
   "source": [
    "t_img , label = train.next()"
   ]
  },
  {
   "cell_type": "markdown",
   "metadata": {},
   "source": [
    "## Visualizing Images"
   ]
  },
  {
   "cell_type": "code",
   "execution_count": 9,
   "metadata": {},
   "outputs": [],
   "source": [
    "def plotImages(img_arr, label):\n",
    "  for im, l in zip(img_arr,label) :\n",
    "    plt.figure(figsize= (5,5))\n",
    "    plt.imshow(im, cmap = 'gray')\n",
    "    plt.title(im.shape)\n",
    "    plt.axis = False\n",
    "    plt.show()"
   ]
  },
  {
   "cell_type": "markdown",
   "metadata": {},
   "source": [
    "## Implementing VGG16 Model"
   ]
  },
  {
   "cell_type": "code",
   "execution_count": 10,
   "metadata": {},
   "outputs": [],
   "source": [
    "from keras.applications.vgg16 import VGG16\n",
    "from keras.layers import Flatten , Dense, Dropout , MaxPool2D"
   ]
  },
  {
   "cell_type": "code",
   "execution_count": 11,
   "metadata": {},
   "outputs": [],
   "source": [
    "vgg = VGG16( input_shape=(224,224,3), include_top= False) # include_top will consider the new weights\n",
    "for layer in vgg.layers:           # Dont Train the parameters again \n",
    "  layer.trainable = False"
   ]
  },
  {
   "cell_type": "code",
   "execution_count": 12,
   "metadata": {},
   "outputs": [],
   "source": [
    "x = Flatten()(vgg.output)\n",
    "x = Dense(units=2 , activation='sigmoid', name = 'predictions' )(x)\n",
    "\n",
    "model = Model(vgg.input, x)"
   ]
  },
  {
   "cell_type": "code",
   "execution_count": 13,
   "metadata": {},
   "outputs": [
    {
     "name": "stdout",
     "output_type": "stream",
     "text": [
      "Model: \"model\"\n",
      "_________________________________________________________________\n",
      " Layer (type)                Output Shape              Param #   \n",
      "=================================================================\n",
      " input_1 (InputLayer)        [(None, 224, 224, 3)]     0         \n",
      "                                                                 \n",
      " block1_conv1 (Conv2D)       (None, 224, 224, 64)      1792      \n",
      "                                                                 \n",
      " block1_conv2 (Conv2D)       (None, 224, 224, 64)      36928     \n",
      "                                                                 \n",
      " block1_pool (MaxPooling2D)  (None, 112, 112, 64)      0         \n",
      "                                                                 \n",
      " block2_conv1 (Conv2D)       (None, 112, 112, 128)     73856     \n",
      "                                                                 \n",
      " block2_conv2 (Conv2D)       (None, 112, 112, 128)     147584    \n",
      "                                                                 \n",
      " block2_pool (MaxPooling2D)  (None, 56, 56, 128)       0         \n",
      "                                                                 \n",
      " block3_conv1 (Conv2D)       (None, 56, 56, 256)       295168    \n",
      "                                                                 \n",
      " block3_conv2 (Conv2D)       (None, 56, 56, 256)       590080    \n",
      "                                                                 \n",
      " block3_conv3 (Conv2D)       (None, 56, 56, 256)       590080    \n",
      "                                                                 \n",
      " block3_pool (MaxPooling2D)  (None, 28, 28, 256)       0         \n",
      "                                                                 \n",
      " block4_conv1 (Conv2D)       (None, 28, 28, 512)       1180160   \n",
      "                                                                 \n",
      " block4_conv2 (Conv2D)       (None, 28, 28, 512)       2359808   \n",
      "                                                                 \n",
      " block4_conv3 (Conv2D)       (None, 28, 28, 512)       2359808   \n",
      "                                                                 \n",
      " block4_pool (MaxPooling2D)  (None, 14, 14, 512)       0         \n",
      "                                                                 \n",
      " block5_conv1 (Conv2D)       (None, 14, 14, 512)       2359808   \n",
      "                                                                 \n",
      " block5_conv2 (Conv2D)       (None, 14, 14, 512)       2359808   \n",
      "                                                                 \n",
      " block5_conv3 (Conv2D)       (None, 14, 14, 512)       2359808   \n",
      "                                                                 \n",
      " block5_pool (MaxPooling2D)  (None, 7, 7, 512)         0         \n",
      "                                                                 \n",
      " flatten (Flatten)           (None, 25088)             0         \n",
      "                                                                 \n",
      " predictions (Dense)         (None, 2)                 50178     \n",
      "                                                                 \n",
      "=================================================================\n",
      "Total params: 14,764,866\n",
      "Trainable params: 50,178\n",
      "Non-trainable params: 14,714,688\n",
      "_________________________________________________________________\n"
     ]
    }
   ],
   "source": [
    "model.summary()"
   ]
  },
  {
   "cell_type": "code",
   "execution_count": 14,
   "metadata": {},
   "outputs": [],
   "source": [
    "model.compile(optimizer='adam', loss = 'categorical_crossentropy', metrics=['accuracy'])"
   ]
  },
  {
   "cell_type": "code",
   "execution_count": 15,
   "metadata": {},
   "outputs": [],
   "source": [
    "# implementing early stopping and model check point \n",
    "from keras.callbacks import EarlyStopping\n",
    "from keras.callbacks import ModelCheckpoint\n",
    "\n",
    "es = EarlyStopping(monitor= \"val_accuracy\" , min_delta= 0.01, patience= 3, verbose=1)\n",
    "mc = ModelCheckpoint(filepath=\"bestmodel.h5\", monitor=\"val_accuracy\", verbose=1, save_best_only= True)"
   ]
  },
  {
   "cell_type": "code",
   "execution_count": 16,
   "metadata": {},
   "outputs": [
    {
     "name": "stderr",
     "output_type": "stream",
     "text": [
      "C:\\Users\\DELL\\AppData\\Local\\Temp\\ipykernel_13036\\453259245.py:2: UserWarning: `Model.fit_generator` is deprecated and will be removed in a future version. Please use `Model.fit`, which supports generators.\n",
      "  hist = model.fit_generator(train, steps_per_epoch= 10, epochs= 30, validation_data= valid , validation_steps= 32, callbacks=[es,mc])\n"
     ]
    },
    {
     "name": "stdout",
     "output_type": "stream",
     "text": [
      "Epoch 1/30\n",
      "10/10 [==============================] - ETA: 0s - loss: 17.9885 - accuracy: 0.6094\n",
      "Epoch 1: val_accuracy improved from -inf to 0.73800, saving model to bestmodel.h5\n",
      "10/10 [==============================] - 239s 26s/step - loss: 17.9885 - accuracy: 0.6094 - val_loss: 8.7728 - val_accuracy: 0.7380\n",
      "Epoch 2/30\n",
      "10/10 [==============================] - ETA: 0s - loss: 8.2992 - accuracy: 0.7469\n",
      "Epoch 2: val_accuracy improved from 0.73800 to 0.79200, saving model to bestmodel.h5\n",
      "10/10 [==============================] - 238s 26s/step - loss: 8.2992 - accuracy: 0.7469 - val_loss: 8.9577 - val_accuracy: 0.7920\n",
      "Epoch 3/30\n",
      "10/10 [==============================] - ETA: 0s - loss: 10.9041 - accuracy: 0.7188\n",
      "Epoch 3: val_accuracy did not improve from 0.79200\n",
      "10/10 [==============================] - 236s 26s/step - loss: 10.9041 - accuracy: 0.7188 - val_loss: 9.2174 - val_accuracy: 0.7190\n",
      "Epoch 4/30\n",
      "10/10 [==============================] - ETA: 0s - loss: 6.6813 - accuracy: 0.7937\n",
      "Epoch 4: val_accuracy improved from 0.79200 to 0.81300, saving model to bestmodel.h5\n",
      "10/10 [==============================] - 234s 25s/step - loss: 6.6813 - accuracy: 0.7937 - val_loss: 4.8810 - val_accuracy: 0.8130\n",
      "Epoch 5/30\n",
      "10/10 [==============================] - ETA: 0s - loss: 4.9934 - accuracy: 0.7969\n",
      "Epoch 5: val_accuracy improved from 0.81300 to 0.83800, saving model to bestmodel.h5\n",
      "10/10 [==============================] - 234s 25s/step - loss: 4.9934 - accuracy: 0.7969 - val_loss: 3.5549 - val_accuracy: 0.8380\n",
      "Epoch 6/30\n",
      "10/10 [==============================] - ETA: 0s - loss: 3.4141 - accuracy: 0.8219\n",
      "Epoch 6: val_accuracy did not improve from 0.83800\n",
      "10/10 [==============================] - 226s 24s/step - loss: 3.4141 - accuracy: 0.8219 - val_loss: 5.8582 - val_accuracy: 0.7680\n",
      "Epoch 7/30\n",
      "10/10 [==============================] - ETA: 0s - loss: 4.3033 - accuracy: 0.8062\n",
      "Epoch 7: val_accuracy did not improve from 0.83800\n",
      "10/10 [==============================] - 234s 25s/step - loss: 4.3033 - accuracy: 0.8062 - val_loss: 4.7964 - val_accuracy: 0.8030\n",
      "Epoch 8/30\n",
      "10/10 [==============================] - ETA: 0s - loss: 3.3268 - accuracy: 0.8344\n",
      "Epoch 8: val_accuracy improved from 0.83800 to 0.85100, saving model to bestmodel.h5\n",
      "10/10 [==============================] - 238s 26s/step - loss: 3.3268 - accuracy: 0.8344 - val_loss: 2.6909 - val_accuracy: 0.8510\n",
      "Epoch 9/30\n",
      "10/10 [==============================] - ETA: 0s - loss: 2.7451 - accuracy: 0.8594\n",
      "Epoch 9: val_accuracy improved from 0.85100 to 0.86400, saving model to bestmodel.h5\n",
      "10/10 [==============================] - 238s 26s/step - loss: 2.7451 - accuracy: 0.8594 - val_loss: 2.5808 - val_accuracy: 0.8640\n",
      "Epoch 10/30\n",
      "10/10 [==============================] - ETA: 0s - loss: 2.2594 - accuracy: 0.8844\n",
      "Epoch 10: val_accuracy improved from 0.86400 to 0.88200, saving model to bestmodel.h5\n",
      "10/10 [==============================] - 236s 26s/step - loss: 2.2594 - accuracy: 0.8844 - val_loss: 2.7698 - val_accuracy: 0.8820\n",
      "Epoch 11/30\n",
      "10/10 [==============================] - ETA: 0s - loss: 2.5790 - accuracy: 0.8625\n",
      "Epoch 11: val_accuracy improved from 0.88200 to 0.88500, saving model to bestmodel.h5\n",
      "10/10 [==============================] - 236s 25s/step - loss: 2.5790 - accuracy: 0.8625 - val_loss: 2.5417 - val_accuracy: 0.8850\n",
      "Epoch 12/30\n",
      "10/10 [==============================] - ETA: 0s - loss: 2.2114 - accuracy: 0.8719\n",
      "Epoch 12: val_accuracy did not improve from 0.88500\n",
      "10/10 [==============================] - 239s 26s/step - loss: 2.2114 - accuracy: 0.8719 - val_loss: 2.1897 - val_accuracy: 0.8810\n",
      "Epoch 13/30\n",
      "10/10 [==============================] - ETA: 0s - loss: 1.9737 - accuracy: 0.8938\n",
      "Epoch 13: val_accuracy did not improve from 0.88500\n",
      "10/10 [==============================] - 236s 26s/step - loss: 1.9737 - accuracy: 0.8938 - val_loss: 2.6366 - val_accuracy: 0.8720\n",
      "Epoch 13: early stopping\n"
     ]
    }
   ],
   "source": [
    "hist = model.fit_generator(train, steps_per_epoch= 10, epochs= 30, validation_data= valid , validation_steps= 32, callbacks=[es,mc])"
   ]
  },
  {
   "cell_type": "code",
   "execution_count": 17,
   "metadata": {},
   "outputs": [
    {
     "data": {
      "text/plain": [
       "dict_keys(['loss', 'accuracy', 'val_loss', 'val_accuracy'])"
      ]
     },
     "execution_count": 17,
     "metadata": {},
     "output_type": "execute_result"
    }
   ],
   "source": [
    "h = hist.history\n",
    "h.keys()"
   ]
  },
  {
   "cell_type": "markdown",
   "metadata": {},
   "source": [
    "## Plotting Accuracy & Loss"
   ]
  },
  {
   "cell_type": "code",
   "execution_count": 18,
   "metadata": {},
   "outputs": [
    {
     "data": {
      "image/png": "[encoded data removed]",
      "text/plain": [
       "<Figure size 432x288 with 1 Axes>"
      ]
     },
     "metadata": {
      "needs_background": "light"
     },
     "output_type": "display_data"
    }
   ],
   "source": [
    "plt.plot(h['accuracy'])\n",
    "plt.plot(h['val_accuracy'] , c = \"red\")\n",
    "plt.title(\"acc vs v-acc\")\n",
    "plt.show()"
   ]
  },
  {
   "cell_type": "code",
   "execution_count": 19,
   "metadata": {
    "colab": {
     "base_uri": "https://localhost:8080/",
     "height": 281
    },
    "id": "mJx23UfUZV2q",
    "outputId": "1852e6c4-96fb-47fe-a376-7c3ea6d047c8"
   },
   "outputs": [
    {
     "data": {
      "image/png": "[encoded data removed]",
      "text/plain": [
       "<Figure size 432x288 with 1 Axes>"
      ]
     },
     "metadata": {
      "needs_background": "light"
     },
     "output_type": "display_data"
    }
   ],
   "source": [
    "plt.plot(h['loss'])\n",
    "plt.plot(h['val_loss'] , c = \"red\")\n",
    "plt.title(\"loss vs v-loss\")\n",
    "plt.show()"
   ]
  },
  {
   "cell_type": "code",
   "execution_count": 20,
   "metadata": {
    "colab": {
     "base_uri": "https://localhost:8080/"
    },
    "id": "9hHPT4pVVvvs",
    "outputId": "b151492f-910f-4990-a5d9-21b7e6c75656"
   },
   "outputs": [
    {
     "name": "stderr",
     "output_type": "stream",
     "text": [
      "C:\\Users\\DELL\\AppData\\Local\\Temp\\ipykernel_13036\\1957840212.py:3: UserWarning: `Model.evaluate_generator` is deprecated and will be removed in a future version. Please use `Model.evaluate`, which supports generators.\n",
      "  acc = model.evaluate_generator(generator= test)[1]\n"
     ]
    },
    {
     "name": "stdout",
     "output_type": "stream",
     "text": [
      "The accuracy of your model is = 0.8698698878288269 %\n"
     ]
    }
   ],
   "source": [
    "# checking out the accuracy of our model \n",
    "\n",
    "acc = model.evaluate_generator(generator= test)[1] \n",
    "\n",
    "print(f\"The accuracy of your model is = {acc} %\")"
   ]
  }
 ],
 "metadata": {
  "interpreter": {
   "hash": "6e0580afa3568e9831e78fb07401b3217cb49abd6781e8c63feefa05b4cb53f1"
  },
  "kernelspec": {
   "display_name": "Python 3.9.12 ('prml_proj')",
   "language": "python",
   "name": "python3"
  },
  "language_info": {
   "codemirror_mode": {
    "name": "ipython",
    "version": 3
   },
   "file_extension": ".py",
   "mimetype": "text/x-python",
   "name": "python",
   "nbconvert_exporter": "python",
   "pygments_lexer": "ipython3",
   "version": "3.9.12"
  },
  "orig_nbformat": 4
 },
 "nbformat": 4,
 "nbformat_minor": 2
}
